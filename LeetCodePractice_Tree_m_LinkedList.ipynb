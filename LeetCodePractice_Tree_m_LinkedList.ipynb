{
 "cells": [
  {
   "cell_type": "code",
   "execution_count": 1,
   "metadata": {},
   "outputs": [
    {
     "name": "stdout",
     "output_type": "stream",
     "text": [
      "3\n"
     ]
    }
   ],
   "source": [
    "class Solution:\n",
    "    def numJewelsInStones(self, J, S):\n",
    "        counter = 0\n",
    "        jewels = set(J) # search in a set is instant - O(1)\n",
    "        for stone in S:\n",
    "            if stone in jewels:\n",
    "                counter += 1\n",
    "        return counter\n",
    "\n",
    "J = \"aA\"\n",
    "S = \"aAAbbbb\"\n",
    "b1 = Solution()\n",
    "res=b1.numJewelsInStones(J,S)\n",
    "print(res)"
   ]
  },
  {
   "cell_type": "code",
   "execution_count": 14,
   "metadata": {},
   "outputs": [
    {
     "name": "stdout",
     "output_type": "stream",
     "text": [
      "1 2 3 4 5 [[1], [2, 3], [4, 5]]\n"
     ]
    }
   ],
   "source": [
    "# Definition for a binary tree node.\n",
    "class Node(object):\n",
    "        \n",
    "    def __init__(self, val=0, left=None, right=None):\n",
    "         self.val = val\n",
    "         self.left = left\n",
    "         self.right = right\n",
    "            \n",
    "class Level():\n",
    "    def levelOrder(self,root):\n",
    "        ret = []\n",
    "\n",
    "        level = [root]\n",
    "\n",
    "        while root and level:\n",
    "            currentNodes = []\n",
    "            nextLevel = []\n",
    "            for node in level:\n",
    "                print(node.val,end=' ')\n",
    "                currentNodes.append(node.val)\n",
    "                if node.left:\n",
    "                    nextLevel.append(node.left)\n",
    "                if node.right:\n",
    "                    nextLevel.append(node.right)\n",
    "            ret.append(currentNodes)\n",
    "\n",
    "            level = nextLevel\n",
    "\n",
    "\n",
    "        return ret\n",
    "# Driver program to test above function \n",
    "root = Node(1) \n",
    "root.left = Node(2) \n",
    "root.right = Node(3) \n",
    "root.left.left = Node(4) \n",
    "root.left.right = Node(5) \n",
    "lobject=Level()\n",
    "res=lobject.levelOrder(root)\n",
    "print (res)\n",
    "\n",
    "  \n",
    "#print(\"Level order traversal of binary tree is -\") \n",
    "#printLevelOrder(root) "
   ]
  },
  {
   "cell_type": "code",
   "execution_count": null,
   "metadata": {},
   "outputs": [],
   "source": [
    "class Node:\n",
    "    def __init__(self,val=0 next=None):\n",
    "        self.val=val\n",
    "        self.next-next\n",
    "class MidNode:\n",
    "    def __init__(self, head):\n",
    "        s=f=head.next\n",
    "        while f and f.next:\n",
    "            s=s.next\n",
    "            f=f.next.next\n",
    "            \n",
    "        \n",
    "        "
   ]
  },
  {
   "cell_type": "code",
   "execution_count": 11,
   "metadata": {},
   "outputs": [
    {
     "name": "stdout",
     "output_type": "stream",
     "text": [
      "1\n",
      "2\n",
      "3\n",
      "middle element is  2\n"
     ]
    }
   ],
   "source": [
    "class Node:\n",
    "    def __init__(self,val=0 ,next=None):\n",
    "        self.val=val\n",
    "        self.next=next\n",
    "class LL:\n",
    "    def __init__(self):\n",
    "        self.head=None\n",
    "    def printLlist(self):\n",
    "        temp=self.head\n",
    "        while(temp):\n",
    "            print(temp.val)\n",
    "            temp=temp.next\n",
    "    def middleNode(self):\n",
    "        s=f=self.head\n",
    "        while f and f.next:\n",
    "            s=s.next\n",
    "            f=f.next.next\n",
    "        print (\"middle element is \",s.val)\n",
    "l=LL()\n",
    "l.head=Node(1)\n",
    "second=Node(2)\n",
    "third=Node(3)\n",
    "l.head.next=second\n",
    "second.next=third\n",
    "l.printLlist()\n",
    "l.middleNode()\n",
    "        \n",
    "        "
   ]
  },
  {
   "cell_type": "code",
   "execution_count": null,
   "metadata": {},
   "outputs": [],
   "source": []
  }
 ],
 "metadata": {
  "kernelspec": {
   "display_name": "Python 3",
   "language": "python",
   "name": "python3"
  },
  "language_info": {
   "codemirror_mode": {
    "name": "ipython",
    "version": 3
   },
   "file_extension": ".py",
   "mimetype": "text/x-python",
   "name": "python",
   "nbconvert_exporter": "python",
   "pygments_lexer": "ipython3",
   "version": "3.8.5"
  }
 },
 "nbformat": 4,
 "nbformat_minor": 2
}
